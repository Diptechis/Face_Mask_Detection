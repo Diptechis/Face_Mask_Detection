{
 "cells": [
  {
   "cell_type": "code",
   "execution_count": 1,
   "metadata": {},
   "outputs": [],
   "source": [
    "from csv import writer\n",
    "import os\n",
    "import pandas as pd"
   ]
  },
  {
   "cell_type": "markdown",
   "metadata": {},
   "source": [
    "# Reading Directory"
   ]
  },
  {
   "cell_type": "code",
   "execution_count": 33,
   "metadata": {},
   "outputs": [],
   "source": [
    "path = \"/Users/musubimanagement/Desktop/image_dataset-main/with_mask\"\n",
    "path_2 = \"/Users/musubimanagement/Desktop/image_dataset-main/without_mask\"\n",
    "pic_files_mask = os.listdir(path)\n",
    "pic_files_nomask = os.listdir(path_2)\n",
    " \n",
    "# nu_pic = []\n",
    "# for i in pic_files:\n",
    "#     name, ext = os.path.splitext(i)\n",
    "#     n, num = name.split('-')\n",
    "#     nu_pic.append(num)\n",
    "    \n",
    "# n_pic_files =pd.to_numeric(nu_pic)\n",
    "# n_pic_files.sort()\n",
    "\n"
   ]
  },
  {
   "cell_type": "markdown",
   "metadata": {},
   "source": [
    "# Creating CSV\n"
   ]
  },
  {
   "cell_type": "code",
   "execution_count": 45,
   "metadata": {},
   "outputs": [],
   "source": [
    "with open(\"mask_rec.csv\",'w',encoding='utf8',newline=\"\") as f:\n",
    "    theWriter = writer(f)\n",
    "    header = ['P_Name','Label']\n",
    "    theWriter.writerow(header)\n",
    "    for img in pic_files_mask:\n",
    "        info_one = [img,'With Mask']\n",
    "        theWriter.writerow(info_one)\n",
    "    for img2 in pic_files_nomask:\n",
    "        info_two = [img2,\"Without Mask\"]\n",
    "        theWriter.writerow(info_two)   \n",
    "  \n",
    "        # theWriter.writerow(img,'With Mask')\n",
    "           \n",
    "            "
   ]
  },
  {
   "cell_type": "code",
   "execution_count": null,
   "metadata": {},
   "outputs": [],
   "source": []
  }
 ],
 "metadata": {
  "interpreter": {
   "hash": "aee8b7b246df8f9039afb4144a1f6fd8d2ca17a180786b69acc140d282b71a49"
  },
  "kernelspec": {
   "display_name": "Python 3.9.1 64-bit",
   "language": "python",
   "name": "python3"
  },
  "language_info": {
   "codemirror_mode": {
    "name": "ipython",
    "version": 3
   },
   "file_extension": ".py",
   "mimetype": "text/x-python",
   "name": "python",
   "nbconvert_exporter": "python",
   "pygments_lexer": "ipython3",
   "version": "3.9.1"
  },
  "orig_nbformat": 4
 },
 "nbformat": 4,
 "nbformat_minor": 2
}
